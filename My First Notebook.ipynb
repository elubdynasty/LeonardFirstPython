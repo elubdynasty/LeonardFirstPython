{
    "cells": [
        {
            "cell_type": "markdown",
            "metadata": {},
            "source": "My Title"
        },
        {
            "cell_type": "code",
            "execution_count": 1,
            "metadata": {},
            "outputs": [
                {
                    "name": "stdout",
                    "output_type": "stream",
                    "text": "Waiting for a Spark session to start...\nSpark Initialization Done! ApplicationId = app-20200601005746-0000\nKERNEL_ID = 3074ef0a-95db-4d2f-86a3-539ba2d6e409\n"
                },
                {
                    "data": {
                        "text/plain": "2"
                    },
                    "execution_count": 1,
                    "metadata": {},
                    "output_type": "execute_result"
                }
            ],
            "source": "1+1"
        },
        {
            "cell_type": "code",
            "execution_count": 3,
            "metadata": {},
            "outputs": [
                {
                    "name": "stdout",
                    "output_type": "stream",
                    "text": "Hello World\n"
                }
            ],
            "source": "x = \"Hello World\"\nprint(x)"
        },
        {
            "cell_type": "markdown",
            "metadata": {},
            "source": "<font color=\"red\">RED TEXT</font>\n<a href=\"https://datascience.ibm.com\"><img src=\"https://datascience.ibm.com/graphics/landing/logo.svg\" width=400></a>\n\n# H1 header\n## H2 header\n### H3 header\n#### H4 header\n\n1. numbering\n1. numbering\n1. numbering\n\n**bold**  \n_italics_"
        },
        {
            "cell_type": "code",
            "execution_count": null,
            "metadata": {},
            "outputs": [],
            "source": ""
        }
    ],
    "metadata": {
        "kernelspec": {
            "display_name": "Python 3.6 with Spark",
            "language": "python3",
            "name": "python36"
        },
        "language_info": {
            "codemirror_mode": {
                "name": "ipython",
                "version": 3
            },
            "file_extension": ".py",
            "mimetype": "text/x-python",
            "name": "python",
            "nbconvert_exporter": "python",
            "pygments_lexer": "ipython3",
            "version": "3.6.8"
        }
    },
    "nbformat": 4,
    "nbformat_minor": 1
}